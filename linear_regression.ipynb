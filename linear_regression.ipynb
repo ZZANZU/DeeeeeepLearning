{
  "nbformat": 4,
  "nbformat_minor": 0,
  "metadata": {
    "colab": {
      "name": "linear_regression.ipynb",
      "version": "0.3.2",
      "provenance": [],
      "include_colab_link": true
    }
  },
  "cells": [
    {
      "cell_type": "markdown",
      "metadata": {
        "id": "view-in-github",
        "colab_type": "text"
      },
      "source": [
        "[View in Colaboratory](https://colab.research.google.com/github/ZZANZU/DeeeeeepLearning/blob/master/linear_regression.ipynb)"
      ]
    },
    {
      "metadata": {
        "id": "aQVaXejIQvVB",
        "colab_type": "code",
        "colab": {}
      },
      "cell_type": "code",
      "source": [
        "import tensorflow as tf\n",
        "tf.set_random_seed(777)"
      ],
      "execution_count": 0,
      "outputs": []
    },
    {
      "metadata": {
        "id": "TbAjdRERTVNk",
        "colab_type": "text"
      },
      "cell_type": "markdown",
      "source": [
        "## X and Y data"
      ]
    },
    {
      "metadata": {
        "id": "BcUEqZfHRPPL",
        "colab_type": "code",
        "colab": {}
      },
      "cell_type": "code",
      "source": [
        "x_train = [1, 2, 3]\n",
        "y_train = [1, 2, 3]"
      ],
      "execution_count": 0,
      "outputs": []
    },
    {
      "metadata": {
        "id": "bN8qyev_RvyA",
        "colab_type": "text"
      },
      "cell_type": "markdown",
      "source": [
        "## Variable"
      ]
    },
    {
      "metadata": {
        "id": "VH4yCtBBRdrR",
        "colab_type": "code",
        "colab": {}
      },
      "cell_type": "code",
      "source": [
        "W = tf.Variable(tf.random_normal([1]), name='weight') #[1] : shape\n",
        "b = tf.Variable(tf.random_normal([1]), name='bias')"
      ],
      "execution_count": 0,
      "outputs": []
    },
    {
      "metadata": {
        "id": "MrMy6bdhRzul",
        "colab_type": "text"
      },
      "cell_type": "markdown",
      "source": [
        "## Our Model"
      ]
    },
    {
      "metadata": {
        "id": "JdYZFwLLRxKw",
        "colab_type": "code",
        "colab": {}
      },
      "cell_type": "code",
      "source": [
        "hypothesis = x_train * W + b"
      ],
      "execution_count": 0,
      "outputs": []
    },
    {
      "metadata": {
        "id": "-s9ICuP3RsJj",
        "colab_type": "code",
        "colab": {}
      },
      "cell_type": "code",
      "source": [
        "cost = tf.reduce_mean(tf.square(hypothesis - y_train))"
      ],
      "execution_count": 0,
      "outputs": []
    },
    {
      "metadata": {
        "id": "2qicINQkSN1B",
        "colab_type": "text"
      },
      "cell_type": "markdown",
      "source": [
        "## Minimize"
      ]
    },
    {
      "metadata": {
        "id": "j3U0On-kSO7M",
        "colab_type": "code",
        "colab": {}
      },
      "cell_type": "code",
      "source": [
        "optimizer = tf.train.GradientDescentOptimizer(learning_rate=0.1)\n",
        "train = optimizer.minimize(cost)"
      ],
      "execution_count": 0,
      "outputs": []
    },
    {
      "metadata": {
        "id": "W2yas6fLSXJs",
        "colab_type": "text"
      },
      "cell_type": "markdown",
      "source": [
        "## Prepare session"
      ]
    },
    {
      "metadata": {
        "id": "pGLdwREOSYfp",
        "colab_type": "code",
        "colab": {}
      },
      "cell_type": "code",
      "source": [
        "sess = tf.Session()\n",
        "sess.run(tf.global_variables_initializer())"
      ],
      "execution_count": 0,
      "outputs": []
    },
    {
      "metadata": {
        "id": "kR2N0p1rSeXT",
        "colab_type": "text"
      },
      "cell_type": "markdown",
      "source": [
        "## Fit the line"
      ]
    },
    {
      "metadata": {
        "id": "FbfUjCtaSflc",
        "colab_type": "code",
        "colab": {
          "base_uri": "https://localhost:8080/",
          "height": 224
        },
        "outputId": "892d4e52-d0ca-4871-8390-54354597e28d"
      },
      "cell_type": "code",
      "source": [
        "for step in range(2001):\n",
        "    sess.run(train)\n",
        "    if step % 200 == 0:\n",
        "        print(step, sess.run(cost), sess.run(W), sess.run(b))"
      ],
      "execution_count": 29,
      "outputs": [
        {
          "output_type": "stream",
          "text": [
            "(0, 0.2968749, array([0.8766593], dtype=float32), array([0.782156], dtype=float32))\n",
            "(200, 4.176563e-06, array([0.99762636], dtype=float32), array([0.00539579], dtype=float32))\n",
            "(400, 2.478989e-10, array([0.9999817], dtype=float32), array([4.156027e-05], dtype=float32))\n",
            "(600, 6.158037e-14, array([0.99999976], dtype=float32), array([5.443271e-07], dtype=float32))\n",
            "(800, 0.0, array([1.], dtype=float32), array([5.9542486e-08], dtype=float32))\n",
            "(1000, 0.0, array([1.], dtype=float32), array([5.9542486e-08], dtype=float32))\n",
            "(1200, 0.0, array([1.], dtype=float32), array([5.9542486e-08], dtype=float32))\n",
            "(1400, 0.0, array([1.], dtype=float32), array([5.9542486e-08], dtype=float32))\n",
            "(1600, 0.0, array([1.], dtype=float32), array([5.9542486e-08], dtype=float32))\n",
            "(1800, 0.0, array([1.], dtype=float32), array([5.9542486e-08], dtype=float32))\n",
            "(2000, 0.0, array([1.], dtype=float32), array([5.9542486e-08], dtype=float32))\n"
          ],
          "name": "stdout"
        }
      ]
    }
  ]
}