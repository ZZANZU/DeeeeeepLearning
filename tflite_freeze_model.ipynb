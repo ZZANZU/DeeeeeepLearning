{
  "nbformat": 4,
  "nbformat_minor": 0,
  "metadata": {
    "colab": {
      "name": "tflite_freeze_model.ipynb",
      "version": "0.3.2",
      "provenance": [],
      "collapsed_sections": [
        "p2Hc8nKMgpLw"
      ],
      "include_colab_link": true
    },
    "kernelspec": {
      "name": "python3",
      "display_name": "Python 3"
    }
  },
  "cells": [
    {
      "cell_type": "markdown",
      "metadata": {
        "id": "view-in-github",
        "colab_type": "text"
      },
      "source": [
        "<a href=\"https://colab.research.google.com/github/ZZANZU/DeeeeeepLearning/blob/master/tflite_freeze_model.ipynb\" target=\"_parent\"><img src=\"https://colab.research.google.com/assets/colab-badge.svg\" alt=\"Open In Colab\"/></a>"
      ]
    },
    {
      "metadata": {
        "id": "p2Hc8nKMgpLw",
        "colab_type": "text"
      },
      "cell_type": "markdown",
      "source": [
        "# 1. Get Trained Model & Graph & Checkpoint"
      ]
    },
    {
      "metadata": {
        "id": "nc8aKLx4auCj",
        "colab_type": "code",
        "colab": {}
      },
      "cell_type": "code",
      "source": [
        "from google.colab import files # mounting google drive\n",
        "\n",
        "import tensorflow as tf\n",
        "import numpy as np"
      ],
      "execution_count": 0,
      "outputs": []
    },
    {
      "metadata": {
        "id": "XtMW8Ydua0FD",
        "colab_type": "code",
        "colab": {}
      },
      "cell_type": "code",
      "source": [
        "W = tf.Variable(initial_value=tf.random_normal([1]), name='weight', trainable=True)\n",
        "b = tf.Variable(initial_value=0.001, name='bias', trainable=True)\n",
        "\n",
        "x = tf.placeholder(dtype=tf.float32, shape=[1], name='x')\n",
        "y = tf.add(tf.multiply(W, x), b, name='output')"
      ],
      "execution_count": 0,
      "outputs": []
    },
    {
      "metadata": {
        "id": "yLieAA0dbPLe",
        "colab_type": "code",
        "colab": {}
      },
      "cell_type": "code",
      "source": [
        "init = tf.global_variables_initializer()"
      ],
      "execution_count": 0,
      "outputs": []
    },
    {
      "metadata": {
        "id": "z7k3NMzLbTj-",
        "colab_type": "code",
        "colab": {}
      },
      "cell_type": "code",
      "source": [
        "saver = tf.train.Saver()\n",
        "save_path = \"data/\"\n",
        "model_save = save_path + \"model.ckpt\""
      ],
      "execution_count": 0,
      "outputs": []
    },
    {
      "metadata": {
        "id": "9CHfJ5HHcuW2",
        "colab_type": "code",
        "colab": {}
      },
      "cell_type": "code",
      "source": [
        "with tf.Session() as sess:\n",
        "    sess.run(init)\n",
        "    op = sess.run(y, feed_dict={x: np.reshape(1.5, [1])})\n",
        "    saver.save(sess, model_save)\n",
        "    tf.train.write_graph(sess.graph_def, save_path, 'savegraph.pbtxt')"
      ],
      "execution_count": 0,
      "outputs": []
    },
    {
      "metadata": {
        "id": "4_HV0dUKgu__",
        "colab_type": "text"
      },
      "cell_type": "markdown",
      "source": [
        "## Download"
      ]
    },
    {
      "metadata": {
        "id": "KJKEWVNWgbin",
        "colab_type": "text"
      },
      "cell_type": "markdown",
      "source": [
        "https://stackoverflow.com/questions/48678033/how-do-i-save-my-trained-neural-net"
      ]
    },
    {
      "metadata": {
        "id": "GsD21WtWdNFi",
        "colab_type": "code",
        "colab": {
          "base_uri": "https://localhost:8080/",
          "height": 51
        },
        "outputId": "3213534d-73fc-4c25-d1e3-90ae809c5976"
      },
      "cell_type": "code",
      "source": [
        "import os\n",
        "print(os.getcwd())\n",
        "print(os.listdir('data'))"
      ],
      "execution_count": 10,
      "outputs": [
        {
          "output_type": "stream",
          "text": [
            "/content\n",
            "['model.ckpt.data-00000-of-00001', 'model.ckpt.meta', 'model.ckpt.index', 'savegraph.pbtxt', 'checkpoint']\n"
          ],
          "name": "stdout"
        }
      ]
    },
    {
      "metadata": {
        "id": "tT1s-KhrgKrv",
        "colab_type": "code",
        "colab": {}
      },
      "cell_type": "code",
      "source": [
        "files.download(\"data/savegraph.pbtxt\")"
      ],
      "execution_count": 0,
      "outputs": []
    },
    {
      "metadata": {
        "id": "t8yLj6zRgWEl",
        "colab_type": "code",
        "colab": {}
      },
      "cell_type": "code",
      "source": [
        "files.download(\"data/model.ckpt.meta\")"
      ],
      "execution_count": 0,
      "outputs": []
    },
    {
      "metadata": {
        "id": "JVxZWrASiPVF",
        "colab_type": "text"
      },
      "cell_type": "markdown",
      "source": [
        "# 2. Freeze a TensorFlow Model"
      ]
    },
    {
      "metadata": {
        "id": "EDTtobdRgmbj",
        "colab_type": "code",
        "colab": {}
      },
      "cell_type": "code",
      "source": [
        "from tensorflow.python.tools import freeze_graph"
      ],
      "execution_count": 0,
      "outputs": []
    },
    {
      "metadata": {
        "id": "CpV9QKcNiZs1",
        "colab_type": "text"
      },
      "cell_type": "markdown",
      "source": [
        "## Required files\n",
        "1) Saved model\n",
        "2) Saved model's graph"
      ]
    },
    {
      "metadata": {
        "id": "_x9uGvb-iWCE",
        "colab_type": "code",
        "colab": {}
      },
      "cell_type": "code",
      "source": [
        "# Freeze the graph\n",
        "save_path = \"data/\"\n",
        "MODEL_NAME = 'Sample_model'\n",
        "input_graph_path = save_path + 'savegraph.pbtxt'\n",
        "checkpoint_path = save_path + 'model.ckpt'\n",
        "input_saver_def_path = \"\"\n",
        "input_binary = False\n",
        "output_node_names = \"output\"\n",
        "restore_op_name = \"save/restore_all\"\n",
        "filename_tensor_name = \"save/Const:0\"\n",
        "output_frozen_graph_name = save_path + 'frozen_model_' + MODEL_NAME + '.pb'\n",
        "clear_devices = True"
      ],
      "execution_count": 0,
      "outputs": []
    },
    {
      "metadata": {
        "id": "4QofEcoMjTXL",
        "colab_type": "code",
        "colab": {
          "base_uri": "https://localhost:8080/",
          "height": 139
        },
        "outputId": "8c689429-1039-41a3-cda1-dfab40c7c9ef"
      },
      "cell_type": "code",
      "source": [
        "freeze_graph.freeze_graph(input_graph_path, input_saver_def_path,\n",
        "                         input_binary, checkpoint_path, output_node_names,\n",
        "                         restore_op_name, filename_tensor_name,\n",
        "                         output_frozen_graph_name, clear_devices, \"\")"
      ],
      "execution_count": 20,
      "outputs": [
        {
          "output_type": "stream",
          "text": [
            "WARNING:tensorflow:From /usr/local/lib/python3.6/dist-packages/tensorflow/python/tools/freeze_graph.py:249: FastGFile.__init__ (from tensorflow.python.platform.gfile) is deprecated and will be removed in a future version.\n",
            "Instructions for updating:\n",
            "Use tf.gfile.GFile.\n",
            "INFO:tensorflow:Restoring parameters from data/model.ckpt\n",
            "INFO:tensorflow:Froze 2 variables.\n",
            "INFO:tensorflow:Converted 2 variables to const ops.\n"
          ],
          "name": "stdout"
        }
      ]
    },
    {
      "metadata": {
        "id": "wKAiPyldk-OX",
        "colab_type": "text"
      },
      "cell_type": "markdown",
      "source": [
        "# 3. Import the frozen model and define input and output nodes"
      ]
    },
    {
      "metadata": {
        "id": "fopj53lrjmtI",
        "colab_type": "code",
        "colab": {}
      },
      "cell_type": "code",
      "source": [
        "graph_def_file = 'data/frozen_model_Sample_model.pb' # our pb file"
      ],
      "execution_count": 0,
      "outputs": []
    },
    {
      "metadata": {
        "id": "I5X5fem7lTiC",
        "colab_type": "code",
        "colab": {}
      },
      "cell_type": "code",
      "source": [
        "input_arrays = ['x'] # input node, 내가 그래프 만들 때 사용한 input의 이름으로 설정해야됨. output도 동일!\n",
        "output_arrays = ['output'] # output node"
      ],
      "execution_count": 0,
      "outputs": []
    },
    {
      "metadata": {
        "id": "fKcfRsmIo-R3",
        "colab_type": "text"
      },
      "cell_type": "markdown",
      "source": [
        "https://www.google.co.kr/search?q=tf.contrib.lite.TocoConverter.from_frozen_graph&oq=tf.contrib&aqs=chrome.0.69i59j69i57j69i61.2330j0j9&sourceid=chrome&ie=UTF-8"
      ]
    },
    {
      "metadata": {
        "id": "WvdaOJqdlaqb",
        "colab_type": "code",
        "colab": {}
      },
      "cell_type": "code",
      "source": [
        "# DEPRECATED : tf.contrib.lite.TocoConverter.from_frozen_graph\n",
        "converter = tf.contrib.lite.TFLiteConverter.from_frozen_graph(graph_def_file, input_arrays, output_arrays)"
      ],
      "execution_count": 0,
      "outputs": []
    },
    {
      "metadata": {
        "id": "VVIiT2SbliuS",
        "colab_type": "code",
        "colab": {
          "base_uri": "https://localhost:8080/",
          "height": 34
        },
        "outputId": "68bdb332-d0e6-4d57-a8cf-23ad4496d022"
      },
      "cell_type": "code",
      "source": [
        "tflite_model = converter.convert()\n",
        "open(\"converted_model.tflite\", \"wb\").write(tflite_model)"
      ],
      "execution_count": 66,
      "outputs": [
        {
          "output_type": "execute_result",
          "data": {
            "text/plain": [
              "688"
            ]
          },
          "metadata": {
            "tags": []
          },
          "execution_count": 66
        }
      ]
    },
    {
      "metadata": {
        "id": "PAt0Fx6Rpt11",
        "colab_type": "code",
        "colab": {}
      },
      "cell_type": "code",
      "source": [
        ""
      ],
      "execution_count": 0,
      "outputs": []
    }
  ]
}