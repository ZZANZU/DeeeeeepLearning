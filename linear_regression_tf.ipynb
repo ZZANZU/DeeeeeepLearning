{
  "nbformat": 4,
  "nbformat_minor": 0,
  "metadata": {
    "colab": {
      "name": "linear_regression_tf.ipynb",
      "version": "0.3.2",
      "provenance": [],
      "collapsed_sections": []
    },
    "kernelspec": {
      "name": "python3",
      "display_name": "Python 3"
    },
    "accelerator": "GPU"
  },
  "cells": [
    {
      "metadata": {
        "id": "t9q7DOT7mlmE",
        "colab_type": "text"
      },
      "cell_type": "markdown",
      "source": [
        "## 출처 : https://wikidocs.net/8195"
      ]
    },
    {
      "metadata": {
        "id": "SzkBCel6mzFf",
        "colab_type": "text"
      },
      "cell_type": "markdown",
      "source": [
        "### Training data\n",
        "\n",
        "| x(공부 시간) | y(성적) |\n",
        "| :------------ | -------------: |\n",
        "| 10 | 90 |\n",
        "| 9 | 80 |\n",
        "| 3 | 50 |\n",
        "| 2 | 30|\n"
      ]
    },
    {
      "metadata": {
        "id": "7caUIPQpnuxh",
        "colab_type": "code",
        "colab": {}
      },
      "cell_type": "code",
      "source": [
        "import tensorflow as tf"
      ],
      "execution_count": 0,
      "outputs": []
    },
    {
      "metadata": {
        "id": "kNpTEnxemTDa",
        "colab_type": "code",
        "colab": {}
      },
      "cell_type": "code",
      "source": [
        "X = tf.placeholder(tf.float32, shape=[None])\n",
        "Y = tf.placeholder(tf.float32, shape=[None])"
      ],
      "execution_count": 0,
      "outputs": []
    },
    {
      "metadata": {
        "id": "dLxy0AfOoci9",
        "colab_type": "text"
      },
      "cell_type": "markdown",
      "source": [
        "### 그래프 생성"
      ]
    },
    {
      "metadata": {
        "id": "PJRd2M2TmhYQ",
        "colab_type": "code",
        "colab": {}
      },
      "cell_type": "code",
      "source": [
        "w = tf.Variable(tf.random_normal([1]), name='weight')\n",
        "b = tf.Variable(tf.random_normal([1]), name='bias')"
      ],
      "execution_count": 0,
      "outputs": []
    },
    {
      "metadata": {
        "id": "kxdavAuRn4w_",
        "colab_type": "code",
        "colab": {}
      },
      "cell_type": "code",
      "source": [
        "hypothesis = X*w + b\n",
        "\n",
        "cost = tf.reduce_mean(tf.square(hypothesis - Y))"
      ],
      "execution_count": 0,
      "outputs": []
    },
    {
      "metadata": {
        "id": "x4XmxrLKoGuc",
        "colab_type": "code",
        "colab": {}
      },
      "cell_type": "code",
      "source": [
        "optimizer = tf.train.GradientDescentOptimizer(learning_rate=0.01)\n",
        "train = optimizer.minimize(cost)"
      ],
      "execution_count": 0,
      "outputs": []
    },
    {
      "metadata": {
        "id": "r4fUqYzSoYAx",
        "colab_type": "text"
      },
      "cell_type": "markdown",
      "source": [
        "### 그래프 실행"
      ]
    },
    {
      "metadata": {
        "id": "lwPzb9utoR5k",
        "colab_type": "code",
        "colab": {}
      },
      "cell_type": "code",
      "source": [
        "sess = tf.Session()"
      ],
      "execution_count": 0,
      "outputs": []
    },
    {
      "metadata": {
        "id": "5Vzmw0sLokhT",
        "colab_type": "code",
        "colab": {}
      },
      "cell_type": "code",
      "source": [
        "sess.run(tf.global_variables_initializer())"
      ],
      "execution_count": 0,
      "outputs": []
    },
    {
      "metadata": {
        "id": "e26HL-aOooQS",
        "colab_type": "code",
        "colab": {
          "base_uri": "https://localhost:8080/",
          "height": 714
        },
        "outputId": "5e7b2c6d-ece7-49cd-ed79-e67d46346ad7"
      },
      "cell_type": "code",
      "source": [
        "for step in range(2001) :\n",
        "    cost_val, w_val, b_val, _ = sess.run([cost, w, b, train], feed_dict = {X:[10, 9, 3, 2], Y:[90, 80, 50, 30]})\n",
        "    if step%50 == 0 :\n",
        "        print(step, cost_val, w_val, b_val)"
      ],
      "execution_count": 30,
      "outputs": [
        {
          "output_type": "stream",
          "text": [
            "0 142.98837 [9.150673] [1.4792466]\n",
            "50 95.25304 [8.664075] [6.302714]\n",
            "100 66.932 [8.200329] [10.031709]\n",
            "150 49.907356 [7.8407736] [12.922898]\n",
            "200 39.67335 [7.562003] [15.164509]\n",
            "250 33.52143 [7.3458643] [16.90248]\n",
            "300 29.82333 [7.178288] [18.249973]\n",
            "350 27.600279 [7.0483613] [19.294716]\n",
            "400 26.263956 [6.9476256] [20.104733]\n",
            "450 25.460638 [6.8695226] [20.732763]\n",
            "500 24.97776 [6.8089676] [21.219685]\n",
            "550 24.687462 [6.762017] [21.59722]\n",
            "600 24.51299 [6.725616] [21.88992]\n",
            "650 24.408073 [6.697393] [22.116858]\n",
            "700 24.34502 [6.675512] [22.292807]\n",
            "750 24.30712 [6.658546] [22.42923]\n",
            "800 24.284336 [6.645392] [22.535]\n",
            "850 24.270641 [6.635193] [22.617012]\n",
            "900 24.262413 [6.627287] [22.68059]\n",
            "950 24.257454 [6.621156] [22.729883]\n",
            "1000 24.254492 [6.6164026] [22.768108]\n",
            "1050 24.252695 [6.6127176] [22.79774]\n",
            "1100 24.25162 [6.60986] [22.820713]\n",
            "1150 24.250961 [6.607644] [22.838533]\n",
            "1200 24.250587 [6.605927] [22.852343]\n",
            "1250 24.25036 [6.604595] [22.86305]\n",
            "1300 24.250206 [6.6035633] [22.871351]\n",
            "1350 24.250122 [6.6027627] [22.877785]\n",
            "1400 24.25007 [6.602142] [22.882774]\n",
            "1450 24.25005 [6.601661] [22.886644]\n",
            "1500 24.250029 [6.601288] [22.889645]\n",
            "1550 24.25002 [6.6009984] [22.89197]\n",
            "1600 24.250006 [6.600775] [22.893774]\n",
            "1650 24.25001 [6.6006007] [22.895172]\n",
            "1700 24.25 [6.600466] [22.896254]\n",
            "1750 24.250004 [6.6003613] [22.897093]\n",
            "1800 24.25 [6.600281] [22.897741]\n",
            "1850 24.249996 [6.600218] [22.89825]\n",
            "1900 24.249998 [6.6001687] [22.898643]\n",
            "1950 24.250002 [6.6001325] [22.89894]\n",
            "2000 24.250008 [6.6001024] [22.899172]\n"
          ],
          "name": "stdout"
        }
      ]
    },
    {
      "metadata": {
        "id": "UnL6Mi2LpiS2",
        "colab_type": "text"
      },
      "cell_type": "markdown",
      "source": [
        "### Predict"
      ]
    },
    {
      "metadata": {
        "id": "ST_07r2ypADC",
        "colab_type": "code",
        "colab": {
          "base_uri": "https://localhost:8080/",
          "height": 34
        },
        "outputId": "4c0dff06-0442-49d7-f177-bee859870b43"
      },
      "cell_type": "code",
      "source": [
        "print(sess.run(hypothesis, feed_dict={X:[5]}))"
      ],
      "execution_count": 31,
      "outputs": [
        {
          "output_type": "stream",
          "text": [
            "[55.89969]\n"
          ],
          "name": "stdout"
        }
      ]
    }
  ]
}