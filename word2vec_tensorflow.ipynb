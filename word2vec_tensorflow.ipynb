{
  "nbformat": 4,
  "nbformat_minor": 0,
  "metadata": {
    "colab": {
      "name": "word2vec_tensorflow.ipynb",
      "version": "0.3.2",
      "provenance": [],
      "include_colab_link": true
    }
  },
  "cells": [
    {
      "cell_type": "markdown",
      "metadata": {
        "id": "view-in-github",
        "colab_type": "text"
      },
      "source": [
        "[View in Colaboratory](https://colab.research.google.com/github/ZZANZU/DeeeeeepLearning/blob/master/word2vec_tensorflow.ipynb)"
      ]
    },
    {
      "metadata": {
        "id": "Ao25Y-7KpCNo",
        "colab_type": "code",
        "colab": {}
      },
      "cell_type": "code",
      "source": [
        "# https://github.com/minsuk-heo/python_tutorial/blob/master/data_science/nlp/word2vec_tensorflow.ipynb"
      ],
      "execution_count": 0,
      "outputs": []
    },
    {
      "metadata": {
        "id": "OhJBh_9zp53H",
        "colab_type": "text"
      },
      "cell_type": "markdown",
      "source": [
        "# **데이터 만들기**"
      ]
    },
    {
      "metadata": {
        "id": "HmVdm13Ap2IN",
        "colab_type": "code",
        "colab": {}
      },
      "cell_type": "code",
      "source": [
        "corpus = ['king is a strong man', \n",
        "          'queen is a wise woman', \n",
        "          'boy is a young man',\n",
        "          'girl is a young woman',\n",
        "          'prince is a young king',\n",
        "          'princess is a young queen',\n",
        "          'man is strong', \n",
        "          'woman is pretty',\n",
        "          'prince is a boy will be king',\n",
        "          'princess is a girl will be queen']"
      ],
      "execution_count": 0,
      "outputs": []
    },
    {
      "metadata": {
        "id": "UJHgpaF4qPO3",
        "colab_type": "text"
      },
      "cell_type": "markdown",
      "source": [
        "# **Stop words 제거**"
      ]
    },
    {
      "metadata": {
        "id": "MiKfLrejqSye",
        "colab_type": "code",
        "colab": {}
      },
      "cell_type": "code",
      "source": [
        "def remove_stop_words(corpus) :\n",
        "    stop_words = ['is', 'a', 'will', 'be']\n",
        "    results = []\n",
        "    \n",
        "    for text in corpus :\n",
        "        tmp = text.split(' ')\n",
        "        for stop_word in stop_words :\n",
        "            if stop_word in tmp :\n",
        "                tmp.remove(stop_word)\n",
        "        results.append(\" \".join(tmp))\n",
        "        \n",
        "    return results"
      ],
      "execution_count": 0,
      "outputs": []
    },
    {
      "metadata": {
        "id": "L--9BopdqtFI",
        "colab_type": "code",
        "colab": {}
      },
      "cell_type": "code",
      "source": [
        "corpus = remove_stop_words(corpus)"
      ],
      "execution_count": 0,
      "outputs": []
    },
    {
      "metadata": {
        "id": "d5jE76Taq4hy",
        "colab_type": "code",
        "colab": {}
      },
      "cell_type": "code",
      "source": [
        "words = []\n",
        "\n",
        "for text in corpus : \n",
        "    for word in text.split(' ') :\n",
        "        words.append(word)\n",
        "        \n",
        "words = set(words)"
      ],
      "execution_count": 0,
      "outputs": []
    },
    {
      "metadata": {
        "id": "3I07lDPgrGb2",
        "colab_type": "text"
      },
      "cell_type": "markdown",
      "source": [
        "word vector 생성 완료"
      ]
    },
    {
      "metadata": {
        "id": "tLyVCUhorDGA",
        "colab_type": "code",
        "colab": {
          "base_uri": "https://localhost:8080/",
          "height": 221
        },
        "outputId": "633060bc-5458-45f9-f1f1-6c65d8072b59"
      },
      "cell_type": "code",
      "source": [
        "words"
      ],
      "execution_count": 7,
      "outputs": [
        {
          "output_type": "execute_result",
          "data": {
            "text/plain": [
              "{'boy',\n",
              " 'girl',\n",
              " 'king',\n",
              " 'man',\n",
              " 'pretty',\n",
              " 'prince',\n",
              " 'princess',\n",
              " 'queen',\n",
              " 'strong',\n",
              " 'wise',\n",
              " 'woman',\n",
              " 'young'}"
            ]
          },
          "metadata": {
            "tags": []
          },
          "execution_count": 7
        }
      ]
    },
    {
      "metadata": {
        "id": "lNATvtO8sJu8",
        "colab_type": "text"
      },
      "cell_type": "markdown",
      "source": [
        "# **Data 생성**"
      ]
    },
    {
      "metadata": {
        "id": "XhLx7dZ9sQNi",
        "colab_type": "text"
      },
      "cell_type": "markdown",
      "source": [
        "skipgram을 위해 단어별 label을 생성"
      ]
    },
    {
      "metadata": {
        "id": "pdPjT_PIsOVE",
        "colab_type": "code",
        "colab": {}
      },
      "cell_type": "code",
      "source": [
        "word2int = {}\n",
        "\n",
        "for i,word in enumerate(words) :\n",
        "    word2int[word] = i\n",
        "    \n",
        "sentences = []\n",
        "for sentence in corpus :\n",
        "    sentences.append(sentence.split())\n",
        "    #print(sentences)\n",
        "    \n",
        "WINDOW_SIZE = 2\n",
        "\n",
        "data = []\n",
        "for sentence in sentences :\n",
        "    for idx,word in enumerate(sentence) :\n",
        "        for neighbor in sentence[max(idx - WINDOW_SIZE, 0) : min(idx + WINDOW_SIZE, len(sentence)) + 1] :\n",
        "            if neighbor != word :\n",
        "                data.append([word, neighbor])"
      ],
      "execution_count": 0,
      "outputs": []
    },
    {
      "metadata": {
        "id": "vhPFTlJ6tlZ6",
        "colab_type": "code",
        "colab": {
          "base_uri": "https://localhost:8080/",
          "height": 187
        },
        "outputId": "b37e5a1c-a077-49ab-8fb5-c9aa47bf3252"
      },
      "cell_type": "code",
      "source": [
        "import pandas as pd\n",
        "\n",
        "for text in corpus :\n",
        "    print(text)\n",
        "    \n",
        "df = pd.DataFrame(data, columns = ['input', 'label'])"
      ],
      "execution_count": 10,
      "outputs": [
        {
          "output_type": "stream",
          "text": [
            "king strong man\n",
            "queen wise woman\n",
            "boy young man\n",
            "girl young woman\n",
            "prince young king\n",
            "princess young queen\n",
            "man strong\n",
            "woman pretty\n",
            "prince boy king\n",
            "princess girl queen\n"
          ],
          "name": "stdout"
        }
      ]
    },
    {
      "metadata": {
        "id": "DFZFgVJYt2xa",
        "colab_type": "code",
        "colab": {
          "base_uri": "https://localhost:8080/",
          "height": 359
        },
        "outputId": "b30da804-a844-4c34-837c-03782ece8191"
      },
      "cell_type": "code",
      "source": [
        "df.head(10)"
      ],
      "execution_count": 11,
      "outputs": [
        {
          "output_type": "execute_result",
          "data": {
            "text/html": [
              "<div>\n",
              "<style scoped>\n",
              "    .dataframe tbody tr th:only-of-type {\n",
              "        vertical-align: middle;\n",
              "    }\n",
              "\n",
              "    .dataframe tbody tr th {\n",
              "        vertical-align: top;\n",
              "    }\n",
              "\n",
              "    .dataframe thead th {\n",
              "        text-align: right;\n",
              "    }\n",
              "</style>\n",
              "<table border=\"1\" class=\"dataframe\">\n",
              "  <thead>\n",
              "    <tr style=\"text-align: right;\">\n",
              "      <th></th>\n",
              "      <th>input</th>\n",
              "      <th>label</th>\n",
              "    </tr>\n",
              "  </thead>\n",
              "  <tbody>\n",
              "    <tr>\n",
              "      <th>0</th>\n",
              "      <td>king</td>\n",
              "      <td>strong</td>\n",
              "    </tr>\n",
              "    <tr>\n",
              "      <th>1</th>\n",
              "      <td>king</td>\n",
              "      <td>man</td>\n",
              "    </tr>\n",
              "    <tr>\n",
              "      <th>2</th>\n",
              "      <td>strong</td>\n",
              "      <td>king</td>\n",
              "    </tr>\n",
              "    <tr>\n",
              "      <th>3</th>\n",
              "      <td>strong</td>\n",
              "      <td>man</td>\n",
              "    </tr>\n",
              "    <tr>\n",
              "      <th>4</th>\n",
              "      <td>man</td>\n",
              "      <td>king</td>\n",
              "    </tr>\n",
              "    <tr>\n",
              "      <th>5</th>\n",
              "      <td>man</td>\n",
              "      <td>strong</td>\n",
              "    </tr>\n",
              "    <tr>\n",
              "      <th>6</th>\n",
              "      <td>queen</td>\n",
              "      <td>wise</td>\n",
              "    </tr>\n",
              "    <tr>\n",
              "      <th>7</th>\n",
              "      <td>queen</td>\n",
              "      <td>woman</td>\n",
              "    </tr>\n",
              "    <tr>\n",
              "      <th>8</th>\n",
              "      <td>wise</td>\n",
              "      <td>queen</td>\n",
              "    </tr>\n",
              "    <tr>\n",
              "      <th>9</th>\n",
              "      <td>wise</td>\n",
              "      <td>woman</td>\n",
              "    </tr>\n",
              "  </tbody>\n",
              "</table>\n",
              "</div>"
            ],
            "text/plain": [
              "    input   label\n",
              "0    king  strong\n",
              "1    king     man\n",
              "2  strong    king\n",
              "3  strong     man\n",
              "4     man    king\n",
              "5     man  strong\n",
              "6   queen    wise\n",
              "7   queen   woman\n",
              "8    wise   queen\n",
              "9    wise   woman"
            ]
          },
          "metadata": {
            "tags": []
          },
          "execution_count": 11
        }
      ]
    },
    {
      "metadata": {
        "id": "zgzUpafNz0eM",
        "colab_type": "code",
        "colab": {
          "base_uri": "https://localhost:8080/",
          "height": 34
        },
        "outputId": "9bc46003-4c1c-44be-c293-7e00f0aa35c3"
      },
      "cell_type": "code",
      "source": [
        "df.shape"
      ],
      "execution_count": 16,
      "outputs": [
        {
          "output_type": "execute_result",
          "data": {
            "text/plain": [
              "(52, 2)"
            ]
          },
          "metadata": {
            "tags": []
          },
          "execution_count": 16
        }
      ]
    },
    {
      "metadata": {
        "id": "2IeUS5JAz3MQ",
        "colab_type": "code",
        "colab": {
          "base_uri": "https://localhost:8080/",
          "height": 221
        },
        "outputId": "b337738e-1139-45ba-c68f-81c0aa3e5b60"
      },
      "cell_type": "code",
      "source": [
        "word2int"
      ],
      "execution_count": 17,
      "outputs": [
        {
          "output_type": "execute_result",
          "data": {
            "text/plain": [
              "{'boy': 3,\n",
              " 'girl': 8,\n",
              " 'king': 0,\n",
              " 'man': 11,\n",
              " 'pretty': 7,\n",
              " 'prince': 10,\n",
              " 'princess': 6,\n",
              " 'queen': 4,\n",
              " 'strong': 9,\n",
              " 'wise': 2,\n",
              " 'woman': 1,\n",
              " 'young': 5}"
            ]
          },
          "metadata": {
            "tags": []
          },
          "execution_count": 17
        }
      ]
    },
    {
      "metadata": {
        "id": "5Ihk-sCh0HU6",
        "colab_type": "text"
      },
      "cell_type": "markdown",
      "source": [
        "# **텐서플로우 그래프 정의하기**"
      ]
    },
    {
      "metadata": {
        "id": "OIuN00nT0Kai",
        "colab_type": "code",
        "colab": {}
      },
      "cell_type": "code",
      "source": [
        "import tensorflow as tf\n",
        "import numpy as np\n",
        "\n",
        "ONE_HOT_DIM = len(words)\n",
        "\n",
        "# one-hot-encoding 벡터 생성\n",
        "def to_one_hot_encoding(data_point_index) :\n",
        "    one_hot_encoding = np.zeros(ONE_HOT_DIM)\n",
        "    one_hot_encoding[data_point_index] = 1\n",
        "    \n",
        "    return one_hot_encoding\n",
        "\n",
        "X = [] # input word\n",
        "Y = [] # target word\n",
        "\n",
        "for x, y in zip(df['input'], df['label']) :\n",
        "    X.append(to_one_hot_encoding(word2int[ x ]))\n",
        "    Y.append(to_one_hot_encoding(word2int[ y ]))\n",
        "    \n",
        "# numpy array로 변환하기\n",
        "X_train = np.asarray(X)\n",
        "Y_train = np.asarray(Y)\n",
        "\n",
        "# X_train과 Y_train의 placeholder 만들기\n",
        "x = tf.placeholder(tf.float32, shape=(None, ONE_HOT_DIM))\n",
        "y_label = tf.placeholder(tf.float32, shape=(None, ONE_HOT_DIM))\n",
        "\n",
        "# 2차원 word embedding\n",
        "EMBEDDING_DIM = 2\n",
        "\n",
        "# hidden layer\n",
        "W1 = tf.Variable(tf.random_normal([ONE_HOT_DIM, EMBEDDING_DIM]))\n",
        "b1 = tf.Variable(tf.random_normal([1])) # bias\n",
        "hidden_layer = tf.add(tf.matmul(x,W1), b1)\n",
        "\n",
        "# output layer\n",
        "W2 = tf.Variable(tf.random_normal([EMBEDDING_DIM, ONE_HOT_DIM]))\n",
        "b2 = tf.Variable(tf.random_normal([1]))\n",
        "prediction = tf.nn.softmax(tf.add( tf.matmul(hidden_layer, W2), b2))\n",
        "\n",
        "# loss function : cross entropy\n",
        "loss = tf.reduce_mean(-tf.reduce_sum(y_label * tf.log(prediction), axis=[1]))\n",
        "\n",
        "# training operation\n",
        "train_op = tf.train.GradientDescentOptimizer(0.05).minimize(loss)"
      ],
      "execution_count": 0,
      "outputs": []
    },
    {
      "metadata": {
        "id": "eCAYr3P76fN-",
        "colab_type": "text"
      },
      "cell_type": "markdown",
      "source": [
        "# **Train**"
      ]
    },
    {
      "metadata": {
        "id": "8rVV6rdE6hLk",
        "colab_type": "code",
        "colab": {
          "base_uri": "https://localhost:8080/",
          "height": 136
        },
        "outputId": "106c9687-f0b4-44ca-fe39-e549eb1ebcc1"
      },
      "cell_type": "code",
      "source": [
        "sess = tf.Session()\n",
        "init = tf.global_variables_initializer()\n",
        "sess.run(init)\n",
        "\n",
        "iteration = 20000\n",
        "\n",
        "for i in range(iteration) :\n",
        "    # input : X_train(one-hot encoded word)\n",
        "    # label : Y_train(one-hot encoded neighbor word)\n",
        "    sess.run(train_op, feed_dict={x: X_train, y_label: Y_train})\n",
        "    \n",
        "    if i % 3000 == 0 :\n",
        "        print('iteration ' + str(i) + ' loss is : ', sess.run(loss, feed_dict={x: X_train, y_label: Y_train}))"
      ],
      "execution_count": 22,
      "outputs": [
        {
          "output_type": "stream",
          "text": [
            "('iteration 0 loss is : ', 3.0361037)\n",
            "('iteration 3000 loss is : ', 1.8484992)\n",
            "('iteration 6000 loss is : ', 1.8007156)\n",
            "('iteration 9000 loss is : ', 1.7811431)\n",
            "('iteration 12000 loss is : ', 1.7690017)\n",
            "('iteration 15000 loss is : ', 1.760319)\n",
            "('iteration 18000 loss is : ', 1.7535558)\n"
          ],
          "name": "stdout"
        }
      ]
    },
    {
      "metadata": {
        "id": "-0xy8fPl79TE",
        "colab_type": "code",
        "colab": {
          "base_uri": "https://localhost:8080/",
          "height": 221
        },
        "outputId": "b3b26917-9e2d-4ddd-929b-94683a9ef1ee"
      },
      "cell_type": "code",
      "source": [
        "# 이제 hidden layer (W1 + b1)는 lookup table\n",
        "vectors = sess.run(W1 + b1)\n",
        "print(vectors)"
      ],
      "execution_count": 23,
      "outputs": [
        {
          "output_type": "stream",
          "text": [
            "[[ 0.4248289  -0.726086  ]\n",
            " [-1.1005465   0.12198973]\n",
            " [-5.655208   -1.8428428 ]\n",
            " [ 0.1571703  -3.3498254 ]\n",
            " [-1.3833582  -0.31787777]\n",
            " [-0.12473834 -0.28332102]\n",
            " [-4.553308   -1.0071436 ]\n",
            " [-3.791718   -2.2622178 ]\n",
            " [-3.467585   -1.5021908 ]\n",
            " [ 0.8912946  -7.066959  ]\n",
            " [ 0.82857454 -2.1393926 ]\n",
            " [ 0.67266285 -0.6688042 ]]\n"
          ],
          "name": "stdout"
        }
      ]
    },
    {
      "metadata": {
        "id": "sUV4uMOG80T2",
        "colab_type": "text"
      },
      "cell_type": "markdown",
      "source": [
        "# **Word Vector 테이블**"
      ]
    },
    {
      "metadata": {
        "id": "JV-sse8685-M",
        "colab_type": "code",
        "colab": {
          "base_uri": "https://localhost:8080/",
          "height": 421
        },
        "outputId": "7fe98f3e-f89a-4821-983d-9c20a78312d0"
      },
      "cell_type": "code",
      "source": [
        "w2v_df = pd.DataFrame(vectors, columns = ['x1', 'x2'])\n",
        "w2v_df['word'] = words\n",
        "w2v_df = w2v_df[['word', 'x1', 'x2']]\n",
        "w2v_df"
      ],
      "execution_count": 24,
      "outputs": [
        {
          "output_type": "execute_result",
          "data": {
            "text/html": [
              "<div>\n",
              "<style scoped>\n",
              "    .dataframe tbody tr th:only-of-type {\n",
              "        vertical-align: middle;\n",
              "    }\n",
              "\n",
              "    .dataframe tbody tr th {\n",
              "        vertical-align: top;\n",
              "    }\n",
              "\n",
              "    .dataframe thead th {\n",
              "        text-align: right;\n",
              "    }\n",
              "</style>\n",
              "<table border=\"1\" class=\"dataframe\">\n",
              "  <thead>\n",
              "    <tr style=\"text-align: right;\">\n",
              "      <th></th>\n",
              "      <th>word</th>\n",
              "      <th>x1</th>\n",
              "      <th>x2</th>\n",
              "    </tr>\n",
              "  </thead>\n",
              "  <tbody>\n",
              "    <tr>\n",
              "      <th>0</th>\n",
              "      <td>king</td>\n",
              "      <td>0.424829</td>\n",
              "      <td>-0.726086</td>\n",
              "    </tr>\n",
              "    <tr>\n",
              "      <th>1</th>\n",
              "      <td>woman</td>\n",
              "      <td>-1.100546</td>\n",
              "      <td>0.121990</td>\n",
              "    </tr>\n",
              "    <tr>\n",
              "      <th>2</th>\n",
              "      <td>wise</td>\n",
              "      <td>-5.655208</td>\n",
              "      <td>-1.842843</td>\n",
              "    </tr>\n",
              "    <tr>\n",
              "      <th>3</th>\n",
              "      <td>boy</td>\n",
              "      <td>0.157170</td>\n",
              "      <td>-3.349825</td>\n",
              "    </tr>\n",
              "    <tr>\n",
              "      <th>4</th>\n",
              "      <td>queen</td>\n",
              "      <td>-1.383358</td>\n",
              "      <td>-0.317878</td>\n",
              "    </tr>\n",
              "    <tr>\n",
              "      <th>5</th>\n",
              "      <td>young</td>\n",
              "      <td>-0.124738</td>\n",
              "      <td>-0.283321</td>\n",
              "    </tr>\n",
              "    <tr>\n",
              "      <th>6</th>\n",
              "      <td>princess</td>\n",
              "      <td>-4.553308</td>\n",
              "      <td>-1.007144</td>\n",
              "    </tr>\n",
              "    <tr>\n",
              "      <th>7</th>\n",
              "      <td>pretty</td>\n",
              "      <td>-3.791718</td>\n",
              "      <td>-2.262218</td>\n",
              "    </tr>\n",
              "    <tr>\n",
              "      <th>8</th>\n",
              "      <td>girl</td>\n",
              "      <td>-3.467585</td>\n",
              "      <td>-1.502191</td>\n",
              "    </tr>\n",
              "    <tr>\n",
              "      <th>9</th>\n",
              "      <td>strong</td>\n",
              "      <td>0.891295</td>\n",
              "      <td>-7.066959</td>\n",
              "    </tr>\n",
              "    <tr>\n",
              "      <th>10</th>\n",
              "      <td>prince</td>\n",
              "      <td>0.828575</td>\n",
              "      <td>-2.139393</td>\n",
              "    </tr>\n",
              "    <tr>\n",
              "      <th>11</th>\n",
              "      <td>man</td>\n",
              "      <td>0.672663</td>\n",
              "      <td>-0.668804</td>\n",
              "    </tr>\n",
              "  </tbody>\n",
              "</table>\n",
              "</div>"
            ],
            "text/plain": [
              "        word        x1        x2\n",
              "0       king  0.424829 -0.726086\n",
              "1      woman -1.100546  0.121990\n",
              "2       wise -5.655208 -1.842843\n",
              "3        boy  0.157170 -3.349825\n",
              "4      queen -1.383358 -0.317878\n",
              "5      young -0.124738 -0.283321\n",
              "6   princess -4.553308 -1.007144\n",
              "7     pretty -3.791718 -2.262218\n",
              "8       girl -3.467585 -1.502191\n",
              "9     strong  0.891295 -7.066959\n",
              "10    prince  0.828575 -2.139393\n",
              "11       man  0.672663 -0.668804"
            ]
          },
          "metadata": {
            "tags": []
          },
          "execution_count": 24
        }
      ]
    },
    {
      "metadata": {
        "id": "sNv2F5WO8-KI",
        "colab_type": "text"
      },
      "cell_type": "markdown",
      "source": [
        "# **2차원 공간에 표시해보기**"
      ]
    },
    {
      "metadata": {
        "id": "Nk4L1i6u9CLC",
        "colab_type": "code",
        "colab": {
          "base_uri": "https://localhost:8080/",
          "height": 347
        },
        "outputId": "3fb99a12-0f43-46b2-cd39-a8d1744341df"
      },
      "cell_type": "code",
      "source": [
        "import matplotlib.pyplot as plt\n",
        "\n",
        "fig, ax = plt.subplots()\n",
        "\n",
        "for word, x1, x2 in zip(w2v_df['word'], w2v_df['x1'], w2v_df['x2']):\n",
        "    ax.annotate(word, (x1,x2 ))\n",
        "    \n",
        "PADDING = 1.0\n",
        "x_axis_min = np.amin(vectors, axis=0)[0] - PADDING\n",
        "y_axis_min = np.amin(vectors, axis=0)[1] - PADDING\n",
        "x_axis_max = np.amax(vectors, axis=0)[0] + PADDING\n",
        "y_axis_max = np.amax(vectors, axis=0)[1] + PADDING\n",
        " \n",
        "plt.xlim(x_axis_min,x_axis_max)\n",
        "plt.ylim(y_axis_min,y_axis_max)\n",
        "plt.rcParams[\"figure.figsize\"] = (10,10)\n",
        "\n",
        "plt.show()"
      ],
      "execution_count": 25,
      "outputs": [
        {
          "output_type": "display_data",
          "data": {
            "image/png": "[encoded data removed]",
            "text/plain": [
              "<matplotlib.figure.Figure at 0x7f6435feca50>"
            ]
          },
          "metadata": {
            "tags": []
          }
        }
      ]
    }
  ]
}