{
  "nbformat": 4,
  "nbformat_minor": 0,
  "metadata": {
    "colab": {
      "name": "simple_nn.ipynb",
      "version": "0.3.2",
      "provenance": [],
      "include_colab_link": true
    }
  },
  "cells": [
    {
      "cell_type": "markdown",
      "metadata": {
        "id": "view-in-github",
        "colab_type": "text"
      },
      "source": [
        "[View in Colaboratory](https://colab.research.google.com/github/ZZANZU/DeeeeeepLearning/blob/master/simple_nn.ipynb)"
      ]
    },
    {
      "metadata": {
        "id": "XMws8uFLsdel",
        "colab_type": "text"
      },
      "cell_type": "markdown",
      "source": [
        "출처 : 3분 딥러닝 텐서플로우 맛 72페이지"
      ]
    },
    {
      "metadata": {
        "id": "4IEjXHRPn14v",
        "colab_type": "code",
        "colab": {}
      },
      "cell_type": "code",
      "source": [
        "import tensorflow as tf\n",
        "import numpy as np\n",
        "\n",
        "x_data = np.array([[0, 0], [1, 0], [1, 1], [0,0], [0, 0], [0, 1]])\n",
        "y_data = np.array([[1, 0, 0], [0, 1, 0], [0, 0, 1], [1, 0, 0], [1, 0, 0], [0, 0, 1]])"
      ],
      "execution_count": 0,
      "outputs": []
    },
    {
      "metadata": {
        "id": "cVULfCCcotmn",
        "colab_type": "code",
        "colab": {}
      },
      "cell_type": "code",
      "source": [
        "X = tf.placeholder(tf.float32)\n",
        "Y = tf.placeholder(tf.float32)\n",
        "\n",
        "W1 = tf.Variable(tf.random_uniform([2, 10], -1., 1.))\n",
        "W2 = tf.Variable(tf.random_uniform([10, 3], -1., 1.))\n",
        "\n",
        "b1 = tf.Variable(tf.zeros([10]))\n",
        "b2 = tf.Variable(tf.zeros([3]))\n",
        "\n",
        "L1 = tf.add(tf.matmul(X, W1), b1)\n",
        "L1 = tf.nn.relu(L1)"
      ],
      "execution_count": 0,
      "outputs": []
    },
    {
      "metadata": {
        "id": "YklTOmsUpygD",
        "colab_type": "code",
        "colab": {
          "base_uri": "https://localhost:8080/",
          "height": 153
        },
        "outputId": "b19283df-4417-4361-d832-f823a9cf701a"
      },
      "cell_type": "code",
      "source": [
        "model = tf.add(tf.matmul(L1, W2), b2)\n",
        "\n",
        "cost = tf.reduce_mean(tf.nn.softmax_cross_entropy_with_logits(labels =Y, logits = model))\n",
        "\n",
        "optimizer = tf.train.AdamOptimizer(learning_rate = 0.01)\n",
        "train_op = optimizer.minimize(cost)"
      ],
      "execution_count": 5,
      "outputs": [
        {
          "output_type": "stream",
          "text": [
            "WARNING:tensorflow:From <ipython-input-5-ffa1b6bddfbd>:3: softmax_cross_entropy_with_logits (from tensorflow.python.ops.nn_ops) is deprecated and will be removed in a future version.\n",
            "Instructions for updating:\n",
            "\n",
            "Future major versions of TensorFlow will allow gradients to flow\n",
            "into the labels input on backprop by default.\n",
            "\n",
            "See @{tf.nn.softmax_cross_entropy_with_logits_v2}.\n",
            "\n"
          ],
          "name": "stdout"
        }
      ]
    },
    {
      "metadata": {
        "id": "oa3sSNnoqOAS",
        "colab_type": "code",
        "colab": {}
      },
      "cell_type": "code",
      "source": [
        "init = tf.global_variables_initializer()\n",
        "sess = tf.Session()\n",
        "sess.run(init)"
      ],
      "execution_count": 0,
      "outputs": []
    },
    {
      "metadata": {
        "id": "dwm1i-Vkqd-z",
        "colab_type": "code",
        "colab": {
          "base_uri": "https://localhost:8080/",
          "height": 187
        },
        "outputId": "d2670bfd-40b4-4939-85e0-74e833afc4ce"
      },
      "cell_type": "code",
      "source": [
        "for step in range(100) :\n",
        "    sess.run(train_op, feed_dict = {X: x_data, Y: y_data})\n",
        "    \n",
        "    if (step + 1) % 10 == 0:\n",
        "        print(step+1, sess.run(cost, feed_dict={X: x_data, Y: y_data}))"
      ],
      "execution_count": 7,
      "outputs": [
        {
          "output_type": "stream",
          "text": [
            "(10, 0.85005623)\n",
            "(20, 0.6531616)\n",
            "(30, 0.489615)\n",
            "(40, 0.36168543)\n",
            "(50, 0.25885573)\n",
            "(60, 0.18386406)\n",
            "(70, 0.13000105)\n",
            "(80, 0.093952954)\n",
            "(90, 0.07008111)\n",
            "(100, 0.054167416)\n"
          ],
          "name": "stdout"
        }
      ]
    },
    {
      "metadata": {
        "id": "dE9YNvgtq6Jk",
        "colab_type": "code",
        "colab": {
          "base_uri": "https://localhost:8080/",
          "height": 68
        },
        "outputId": "d0be433b-ac9c-4de8-81b5-48387f1fedd8"
      },
      "cell_type": "code",
      "source": [
        "prediction = tf.argmax(model, 1)\n",
        "target = tf.argmax(Y, 1)\n",
        "print('예측값: ', sess.run(prediction, feed_dict={X: x_data}))\n",
        "print('실제값: ', sess.run(target, feed_dict={Y: y_data}))\n",
        "\n",
        "is_correct = tf.equal(prediction, target)\n",
        "accuracy = tf.reduce_mean(tf.cast(is_correct, tf.float32))\n",
        "print('정확도: %.2f' % sess.run(accuracy * 100, feed_dict={X: x_data, Y: y_data}))"
      ],
      "execution_count": 8,
      "outputs": [
        {
          "output_type": "stream",
          "text": [
            "('\\xec\\x98\\x88\\xec\\xb8\\xa1\\xea\\xb0\\x92: ', array([0, 1, 2, 0, 0, 2]))\n",
            "('\\xec\\x8b\\xa4\\xec\\xa0\\x9c\\xea\\xb0\\x92: ', array([0, 1, 2, 0, 0, 2]))\n",
            "정확도: 100.00\n"
          ],
          "name": "stdout"
        }
      ]
    }
  ]
}