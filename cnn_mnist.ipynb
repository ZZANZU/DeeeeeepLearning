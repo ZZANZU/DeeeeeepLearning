{
  "nbformat": 4,
  "nbformat_minor": 0,
  "metadata": {
    "colab": {
      "name": "cnn_mnist.ipynb",
      "version": "0.3.2",
      "provenance": [],
      "include_colab_link": true
    },
    "kernelspec": {
      "name": "python3",
      "display_name": "Python 3"
    },
    "accelerator": "GPU"
  },
  "cells": [
    {
      "cell_type": "markdown",
      "metadata": {
        "id": "view-in-github",
        "colab_type": "text"
      },
      "source": [
        "[View in Colaboratory](https://colab.research.google.com/github/ZZANZU/DeeeeeepLearning/blob/master/cnn_mnist.ipynb)"
      ]
    },
    {
      "metadata": {
        "id": "C3DVUg0cjqBl",
        "colab_type": "code",
        "colab": {
          "base_uri": "https://localhost:8080/",
          "height": 85
        },
        "outputId": "2ecf9f25-d88a-4666-d203-ec2c2a4c15ca"
      },
      "cell_type": "code",
      "source": [
        "import tensorflow as tf\n",
        "\n",
        "from tensorflow.examples.tutorials.mnist import input_data\n",
        "mnist = input_data.read_data_sets(\"./mnist/data/\", one_hot=True)"
      ],
      "execution_count": 27,
      "outputs": [
        {
          "output_type": "stream",
          "text": [
            "Extracting ./mnist/data/train-images-idx3-ubyte.gz\n",
            "Extracting ./mnist/data/train-labels-idx1-ubyte.gz\n",
            "Extracting ./mnist/data/t10k-images-idx3-ubyte.gz\n",
            "Extracting ./mnist/data/t10k-labels-idx1-ubyte.gz\n"
          ],
          "name": "stdout"
        }
      ]
    },
    {
      "metadata": {
        "id": "P14_1ASa7u2Z",
        "colab_type": "text"
      },
      "cell_type": "markdown",
      "source": [
        "### GPU 작동 여부 체크"
      ]
    },
    {
      "metadata": {
        "id": "wZQICP5g7n1I",
        "colab_type": "code",
        "colab": {
          "base_uri": "https://localhost:8080/",
          "height": 34
        },
        "outputId": "845ffd58-a1a6-4cc3-88a0-f8736bcdaaa5"
      },
      "cell_type": "code",
      "source": [
        "tf.test.gpu_device_name()"
      ],
      "execution_count": 28,
      "outputs": [
        {
          "output_type": "execute_result",
          "data": {
            "text/plain": [
              "'/device:GPU:0'"
            ]
          },
          "metadata": {
            "tags": []
          },
          "execution_count": 28
        }
      ]
    },
    {
      "metadata": {
        "id": "RFsf0poq-JfW",
        "colab_type": "code",
        "colab": {
          "base_uri": "https://localhost:8080/",
          "height": 272
        },
        "outputId": "ad315954-fcd3-44a3-c060-79fce9728d29"
      },
      "cell_type": "code",
      "source": [
        "from tensorflow.python.client import device_lib\n",
        "device_lib.list_local_devices()"
      ],
      "execution_count": 29,
      "outputs": [
        {
          "output_type": "execute_result",
          "data": {
            "text/plain": [
              "[name: \"/device:CPU:0\"\n",
              " device_type: \"CPU\"\n",
              " memory_limit: 268435456\n",
              " locality {\n",
              " }\n",
              " incarnation: 16982886301186295751, name: \"/device:GPU:0\"\n",
              " device_type: \"GPU\"\n",
              " memory_limit: 11281989632\n",
              " locality {\n",
              "   bus_id: 1\n",
              "   links {\n",
              "   }\n",
              " }\n",
              " incarnation: 5501815726740606660\n",
              " physical_device_desc: \"device: 0, name: Tesla K80, pci bus id: 0000:00:04.0, compute capability: 3.7\"]"
            ]
          },
          "metadata": {
            "tags": []
          },
          "execution_count": 29
        }
      ]
    },
    {
      "metadata": {
        "id": "5OJxDC2qkXYy",
        "colab_type": "code",
        "colab": {}
      },
      "cell_type": "code",
      "source": [
        "X = tf.placeholder(tf.float32, [None, 28, 28, 1])\n",
        "Y = tf.placeholder(tf.float32, [None, 10])\n",
        "keep_prob = tf.placeholder(tf.float32)"
      ],
      "execution_count": 0,
      "outputs": []
    },
    {
      "metadata": {
        "id": "aLEXWUg5k4PD",
        "colab_type": "text"
      },
      "cell_type": "markdown",
      "source": [
        "## CNN 계층 구성"
      ]
    },
    {
      "metadata": {
        "id": "QkvS_Hwfkwul",
        "colab_type": "code",
        "colab": {}
      },
      "cell_type": "code",
      "source": [
        "W1 = tf.Variable(tf.random_normal([3, 3, 1, 32], stddev=0.01))\n",
        "L1 = tf.nn.conv2d(X, W1, strides=[1, 1, 1, 1], padding='SAME')\n",
        "L1 = tf.nn.relu(L1)"
      ],
      "execution_count": 0,
      "outputs": []
    },
    {
      "metadata": {
        "id": "wBcuP7fDuyvm",
        "colab_type": "code",
        "colab": {
          "base_uri": "https://localhost:8080/",
          "height": 34
        },
        "outputId": "1e32af8f-57a0-4615-f72b-fad2ef755855"
      },
      "cell_type": "code",
      "source": [
        "type(L1)"
      ],
      "execution_count": 55,
      "outputs": [
        {
          "output_type": "execute_result",
          "data": {
            "text/plain": [
              "tensorflow.python.framework.ops.Tensor"
            ]
          },
          "metadata": {
            "tags": []
          },
          "execution_count": 55
        }
      ]
    },
    {
      "metadata": {
        "id": "M-ulAGk1mzEF",
        "colab_type": "text"
      },
      "cell_type": "markdown",
      "source": [
        "커널 크기를 2X2로 해서 2칸씩 움직임"
      ]
    },
    {
      "metadata": {
        "id": "AgDeCtW8mN05",
        "colab_type": "code",
        "colab": {}
      },
      "cell_type": "code",
      "source": [
        "L1 = tf.nn.max_pool(L1, ksize=[1, 2, 2, 1], strides=[1, 2, 2, 1], padding='SAME')"
      ],
      "execution_count": 0,
      "outputs": []
    },
    {
      "metadata": {
        "id": "zFqUX4Ksmht-",
        "colab_type": "code",
        "colab": {}
      },
      "cell_type": "code",
      "source": [
        "W2 = tf.Variable(tf.random_normal([3, 3, 32, 64], stddev=0.01))\n",
        "L2 = tf.nn.conv2d(L1, W2, strides=[1, 1, 1, 1], padding='SAME')\n",
        "L2 = tf.nn.relu(L2)\n",
        "L2 = tf.nn.max_pool(L2, ksize=[1, 2, 2, 1], strides=[1, 2, 2, 1], padding='SAME')"
      ],
      "execution_count": 0,
      "outputs": []
    },
    {
      "metadata": {
        "id": "9bVNFLhEoSBm",
        "colab_type": "code",
        "colab": {}
      },
      "cell_type": "code",
      "source": [
        "W3 = tf.Variable(tf.random_normal([7 * 7 * 64, 256], stddev=0.01))\n",
        "L3 = tf.reshape(L2, [-1, 7 * 7 * 64]) # -1 : 고정된 차원은 우선 채우고 남은 부분은 알아서 채워준다.\n",
        "L3 = tf.matmul(L3, W3)\n",
        "L3 = tf.nn.relu(L3)\n",
        "L3 = tf.nn.dropout(L3, keep_prob)"
      ],
      "execution_count": 0,
      "outputs": []
    },
    {
      "metadata": {
        "id": "vzcMwQV3zZbh",
        "colab_type": "code",
        "colab": {}
      },
      "cell_type": "code",
      "source": [
        "W4 = tf.Variable(tf.random_normal([256, 10], stddev=0.01))\n",
        "model = tf.matmul(L3, W4) # hypothesis"
      ],
      "execution_count": 0,
      "outputs": []
    },
    {
      "metadata": {
        "id": "u5Xr5W4g0HGL",
        "colab_type": "code",
        "colab": {}
      },
      "cell_type": "code",
      "source": [
        "cost = tf.reduce_mean(tf.nn.softmax_cross_entropy_with_logits_v2(logits=model, labels=Y))\n",
        "optimizer = tf.train.AdamOptimizer(0.001).minimize(cost)\n",
        "# optimizer = tf.train.RMSPropOptimizer(0.001, 0.9).minimize(cost)"
      ],
      "execution_count": 0,
      "outputs": []
    },
    {
      "metadata": {
        "id": "VtxBQ6te0xRa",
        "colab_type": "text"
      },
      "cell_type": "markdown",
      "source": [
        "## 모델 학습"
      ]
    },
    {
      "metadata": {
        "id": "2vUIOXwL0oyw",
        "colab_type": "code",
        "colab": {}
      },
      "cell_type": "code",
      "source": [
        "init = tf.global_variables_initializer()\n",
        "sess = tf.Session()\n",
        "sess.run(init)"
      ],
      "execution_count": 0,
      "outputs": []
    },
    {
      "metadata": {
        "id": "Eb-gu5gQ0-b8",
        "colab_type": "code",
        "colab": {}
      },
      "cell_type": "code",
      "source": [
        "batch_size = 100\n",
        "total_batch = int(mnist.train.num_examples / batch_size)"
      ],
      "execution_count": 0,
      "outputs": []
    },
    {
      "metadata": {
        "id": "y5iFda0f1FTT",
        "colab_type": "code",
        "colab": {
          "base_uri": "https://localhost:8080/",
          "height": 289
        },
        "outputId": "c0f84ceb-674c-408b-dbdb-cead216454d3"
      },
      "cell_type": "code",
      "source": [
        "with tf.device('/gpu:0') :\n",
        "    for epoch in range(15) :\n",
        "        total_cost = 0\n",
        "\n",
        "        for i in range(total_batch) :\n",
        "            batch_xs, batch_ys = mnist.train.next_batch(batch_size)\n",
        "            batch_xs = batch_xs.reshape(-1, 28, 28, 1) # import할 때 \n",
        "\n",
        "            _, cost_val = sess.run([optimizer, cost], feed_dict={X: batch_xs,\n",
        "                                                                                            Y: batch_ys,\n",
        "                                                                                            keep_prob: 0.7})\n",
        "            total_cost += cost_val\n",
        "        \n",
        "        print('Epoch:', '%04d' % (epoch+1), 'Avg. cost =', '{:3f}'.format(total_cost / total_batch))\n",
        "    \n",
        "print('최적화 완료!')"
      ],
      "execution_count": 50,
      "outputs": [
        {
          "output_type": "stream",
          "text": [
            "Epoch: 0001 Avg. cost = 0.015640\n",
            "Epoch: 0002 Avg. cost = 0.011645\n",
            "Epoch: 0003 Avg. cost = 0.010881\n",
            "Epoch: 0004 Avg. cost = 0.011602\n",
            "Epoch: 0005 Avg. cost = 0.010147\n",
            "Epoch: 0006 Avg. cost = 0.009588\n",
            "Epoch: 0007 Avg. cost = 0.009416\n",
            "Epoch: 0008 Avg. cost = 0.008510\n",
            "Epoch: 0009 Avg. cost = 0.008225\n",
            "Epoch: 0010 Avg. cost = 0.007636\n",
            "Epoch: 0011 Avg. cost = 0.007043\n",
            "Epoch: 0012 Avg. cost = 0.006912\n",
            "Epoch: 0013 Avg. cost = 0.007537\n",
            "Epoch: 0014 Avg. cost = 0.007148\n",
            "Epoch: 0015 Avg. cost = 0.006584\n",
            "최적화 완료!\n"
          ],
          "name": "stdout"
        }
      ]
    },
    {
      "metadata": {
        "id": "TiLOL6KB17ch",
        "colab_type": "code",
        "colab": {
          "base_uri": "https://localhost:8080/",
          "height": 34
        },
        "outputId": "ffef24d0-355e-4e92-d079-f55332c17c53"
      },
      "cell_type": "code",
      "source": [
        "is_correct = tf.equal(tf.argmax(model, 1), tf.argmax(Y, 1))\n",
        "accuracy = tf.reduce_mean(tf.cast(is_correct, tf.float32))\n",
        "print('정확도 : ', sess.run(accuracy, feed_dict={X: mnist.test.images.reshape(-1, 28, 28, 1), \n",
        "                                                                        Y: mnist.test.labels,\n",
        "                                                                        keep_prob: 1}))"
      ],
      "execution_count": 54,
      "outputs": [
        {
          "output_type": "stream",
          "text": [
            "정확도 :  0.9904\n"
          ],
          "name": "stdout"
        }
      ]
    }
  ]
}