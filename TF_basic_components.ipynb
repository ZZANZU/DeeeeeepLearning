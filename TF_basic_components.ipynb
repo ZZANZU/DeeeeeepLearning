{
  "nbformat": 4,
  "nbformat_minor": 0,
  "metadata": {
    "colab": {
      "name": "TF_basic_components.ipynb",
      "version": "0.3.2",
      "provenance": [],
      "include_colab_link": true
    },
    "kernelspec": {
      "name": "python3",
      "display_name": "Python 3"
    }
  },
  "cells": [
    {
      "cell_type": "markdown",
      "metadata": {
        "id": "view-in-github",
        "colab_type": "text"
      },
      "source": [
        "<a href=\"https://colab.research.google.com/github/ZZANZU/DeeeeeepLearning/blob/master/TF_basic_components.ipynb\" target=\"_parent\"><img src=\"https://colab.research.google.com/assets/colab-badge.svg\" alt=\"Open In Colab\"/></a>"
      ]
    },
    {
      "metadata": {
        "id": "cRgV9IIVJWqV",
        "colab_type": "code",
        "colab": {}
      },
      "cell_type": "code",
      "source": [
        "import tensorflow as tf\n",
        "import numpy as np"
      ],
      "execution_count": 0,
      "outputs": []
    },
    {
      "metadata": {
        "id": "GrepZU_pKqk8",
        "colab_type": "text"
      },
      "cell_type": "markdown",
      "source": [
        "## 텐서플로우의 기본 요소 : Tensor + Computational Graph\n",
        "\n",
        "\n",
        "*   Tensor = Constant, Variable, Operator\n",
        "*   Computational Graph : connections of tensors\n",
        "\n"
      ]
    },
    {
      "metadata": {
        "id": "6lJEP572Jjyw",
        "colab_type": "code",
        "colab": {
          "base_uri": "https://localhost:8080/",
          "height": 34
        },
        "outputId": "73de2304-7368-4b32-a895-05e797521cbc"
      },
      "cell_type": "code",
      "source": [
        "hello = tf.constant('Hello, Tensorflow!')\n",
        "\n",
        "sess = tf.Session()\n",
        "print('test : %s' % sess.run(hello))"
      ],
      "execution_count": 6,
      "outputs": [
        {
          "output_type": "stream",
          "text": [
            "test : b'Hello, Tensorflow!'\n"
          ],
          "name": "stdout"
        }
      ]
    },
    {
      "metadata": {
        "id": "7tsP1dOhJy3h",
        "colab_type": "code",
        "colab": {
          "base_uri": "https://localhost:8080/",
          "height": 34
        },
        "outputId": "62dc9467-0348-4631-aa83-8f6066ef7a0c"
      },
      "cell_type": "code",
      "source": [
        "a = tf.constant(10)\n",
        "b = tf.constant(32)\n",
        "\n",
        "print('a + b = %s' % sess.run(a+b))"
      ],
      "execution_count": 5,
      "outputs": [
        {
          "output_type": "stream",
          "text": [
            "a + b = 42\n"
          ],
          "name": "stdout"
        }
      ]
    },
    {
      "metadata": {
        "id": "J0cPrI0aKjME",
        "colab_type": "text"
      },
      "cell_type": "markdown",
      "source": [
        "## TF 스크립트 = 그래프 정의 + 그래프 평가"
      ]
    },
    {
      "metadata": {
        "id": "07dlU3GzLzCx",
        "colab_type": "text"
      },
      "cell_type": "markdown",
      "source": [
        "### 그래프 정의"
      ]
    },
    {
      "metadata": {
        "id": "mVN7jIZrKi0S",
        "colab_type": "code",
        "colab": {
          "base_uri": "https://localhost:8080/",
          "height": 34
        },
        "outputId": "e29fa105-2a43-41da-91df-9344a4451ee6"
      },
      "cell_type": "code",
      "source": [
        "g = tf.Graph()\n",
        "\n",
        "with g.as_default():\n",
        "    x = tf.constant(6, name=\"x_const\")\n",
        "    y = tf.constant(14, name='y_const')\n",
        "    \n",
        "    sum = tf.add(x, y, name=\"sum_xy\")\n",
        "    print(sum)"
      ],
      "execution_count": 16,
      "outputs": [
        {
          "output_type": "stream",
          "text": [
            "Tensor(\"sum_xy:0\", shape=(), dtype=int32)\n"
          ],
          "name": "stdout"
        }
      ]
    },
    {
      "metadata": {
        "id": "WJDVYQfdL2kS",
        "colab_type": "text"
      },
      "cell_type": "markdown",
      "source": [
        "### 그래프 평가 : tf.Session()을 열어야 한다.\n",
        "매번 run()을 호출하지 않아도 되게 해준다\n"
      ]
    },
    {
      "metadata": {
        "id": "krbPPAaIKDo_",
        "colab_type": "code",
        "colab": {
          "base_uri": "https://localhost:8080/",
          "height": 51
        },
        "outputId": "b9b4aaf0-df0a-4555-ae58-9c6282138af3"
      },
      "cell_type": "code",
      "source": [
        "with tf.Session(graph=g) as sess:\n",
        "    print('sum.eval()=%d' % sum.eval())\n",
        "    print('sess.run(sum)=%d' % sess.run(sum))"
      ],
      "execution_count": 19,
      "outputs": [
        {
          "output_type": "stream",
          "text": [
            "sum.eval()=20\n",
            "sess.run(sum)=20\n"
          ],
          "name": "stdout"
        }
      ]
    },
    {
      "metadata": {
        "id": "G1KEY2yXOED3",
        "colab_type": "text"
      },
      "cell_type": "markdown",
      "source": [
        "## tf.Variable()"
      ]
    },
    {
      "metadata": {
        "id": "jZqhisRXOGIt",
        "colab_type": "code",
        "colab": {
          "base_uri": "https://localhost:8080/",
          "height": 85
        },
        "outputId": "215821cb-0abc-4f2a-e9a2-5afb756bed9b"
      },
      "cell_type": "code",
      "source": [
        "g = tf.Graph()\n",
        "\n",
        "with g.as_default():\n",
        "    state = tf.Variable(0, name=\"cnt\")\n",
        "    one = tf.constant(1) # constant node\n",
        "    add_one = tf.add(state, one) # calculation node\n",
        "    cnt_update = tf.assign(state, add_one) # insert calculation result to state\n",
        "    \n",
        "    init_op = tf.global_variables_initializer()\n",
        "    \n",
        "    with tf.Session() as sess:\n",
        "        sess.run(init_op)\n",
        "        \n",
        "        print(sess.run(state)) # print out initial value of state\n",
        "        \n",
        "        for _ in range(3):\n",
        "            sess.run(cnt_update)\n",
        "            print(sess.run(state))"
      ],
      "execution_count": 21,
      "outputs": [
        {
          "output_type": "stream",
          "text": [
            "0\n",
            "1\n",
            "2\n",
            "3\n"
          ],
          "name": "stdout"
        }
      ]
    },
    {
      "metadata": {
        "id": "4LzBxFpoPWBi",
        "colab_type": "text"
      },
      "cell_type": "markdown",
      "source": [
        "## tf.placeholder() & data feeding\n",
        "tf.placeholder는 operator임"
      ]
    },
    {
      "metadata": {
        "id": "50zZSWT6OeXJ",
        "colab_type": "code",
        "colab": {
          "base_uri": "https://localhost:8080/",
          "height": 34
        },
        "outputId": "83221f25-ddd9-4ad8-f71e-3b9f94201730"
      },
      "cell_type": "code",
      "source": [
        "in1 = tf.placeholder(tf.float32)\n",
        "in2 = tf.placeholder(tf.float32)\n",
        "mul_op = tf.multiply(in1, in2)\n",
        "\n",
        "with tf.Session() as sess:\n",
        "    print(sess.run([mul_op], feed_dict={in1:[6.], in2:[14.]}))"
      ],
      "execution_count": 23,
      "outputs": [
        {
          "output_type": "stream",
          "text": [
            "[array([84.], dtype=float32)]\n"
          ],
          "name": "stdout"
        }
      ]
    },
    {
      "metadata": {
        "id": "_uu64r25QE2b",
        "colab_type": "code",
        "colab": {}
      },
      "cell_type": "code",
      "source": [
        ""
      ],
      "execution_count": 0,
      "outputs": []
    }
  ]
}